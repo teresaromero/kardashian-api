{
 "cells": [
  {
   "cell_type": "code",
   "execution_count": null,
   "source": [
    "import pandas as pd\n",
    "from pymongo import MongoClient\n",
    "from datetime import datetime\n",
    "import os\n",
    "from dotenv import load_dotenv\n",
    "load_dotenv()"
   ],
   "outputs": [],
   "metadata": {}
  },
  {
   "cell_type": "code",
   "execution_count": null,
   "source": [
    "url = os.getenv(\"MONGO_URI\")\n",
    "client = MongoClient(url)\n",
    "db = client.get_database(\"kuwtk\")"
   ],
   "outputs": [],
   "metadata": {}
  },
  {
   "cell_type": "code",
   "execution_count": null,
   "source": [
    "c_wiki_episodes = db[\"wiki_episodes\"]\n",
    "c_imbd_episodes = db[\"imbd_episodes\"]\n",
    "c_imbd_episodes_fullcredits = db[\"imbd_episodes_fullcredits\"]"
   ],
   "outputs": [],
   "metadata": {}
  },
  {
   "cell_type": "code",
   "execution_count": null,
   "source": [
    "we = [d for d in c_wiki_episodes.find()]\n",
    "ie = [d for d in c_imbd_episodes.find()]\n",
    "ief = [d for d in c_imbd_episodes_fullcredits.find()]\n"
   ],
   "outputs": [],
   "metadata": {}
  },
  {
   "cell_type": "code",
   "execution_count": null,
   "source": [
    "season = 0\n",
    "for e in we:\n",
    "    if e[\"episode\"] == 1:\n",
    "        season += 1\n",
    "    e[\"season\"] = season\n",
    "    e[\"code\"] = f\"S{e['season']}E{e['episode']}\"\n",
    "we_dt = pd.DataFrame(we)\n",
    "we_dt.drop(columns=[\"_id\"], inplace=True)\n",
    "we_dt"
   ],
   "outputs": [],
   "metadata": {}
  },
  {
   "cell_type": "code",
   "execution_count": null,
   "source": [
    "for e in ie:\n",
    "    e[\"code\"] = f\"S{e['season']}E{e['episode']}\"\n",
    "ie_dt = pd.DataFrame(ie)\n",
    "ie_dt.drop(columns=[\"_id\"], inplace=True)\n"
   ],
   "outputs": [],
   "metadata": {}
  },
  {
   "cell_type": "code",
   "execution_count": null,
   "source": [
    "dt2 = ie_dt.set_index('code').join(we_dt.set_index('code'),lsuffix='_ie', rsuffix='_we')\n",
    "\n",
    "dt2.dropna(subset=[\"episode_overall\"],inplace=True)\n",
    "dt2.sort_values('episode_overall')"
   ],
   "outputs": [],
   "metadata": {}
  },
  {
   "cell_type": "code",
   "execution_count": null,
   "source": [
    "d4 = dt2.drop(columns=[\"watch_links\",\"raw_air_date\",\"air_date_ie\",\"episode_we\",\"season_we\",\"title_we\"])\n",
    "d4.info()"
   ],
   "outputs": [],
   "metadata": {}
  },
  {
   "cell_type": "code",
   "execution_count": null,
   "source": [
    "d4.rename(columns={\n",
    "    \"episode_ie\":\"episode\",\n",
    "    \"season_ie\":\"season\",\n",
    "    \"title_ie\":\"title\",\n",
    "    \"air_date_we\":\"air_date\"},inplace=True)\n",
    "d5 = d4.astype({\"episode_overall\":int})\n",
    "d5[\"description\"] = d5[\"description\"].apply(lambda x: x.strip())\n",
    "d5[\"title\"] = d5[\"title\"].apply(lambda x: x.strip())"
   ],
   "outputs": [],
   "metadata": {}
  },
  {
   "cell_type": "code",
   "execution_count": null,
   "source": [
    "docs = d5.to_json(orient=\"records\")\n",
    "parsed = json.loads(docs)"
   ],
   "outputs": [],
   "metadata": {}
  },
  {
   "cell_type": "code",
   "execution_count": null,
   "source": [
    "coll_episodes = db[\"episodes\"]\n",
    "res = coll_episodes.insert_many(parsed)\n",
    "res"
   ],
   "outputs": [],
   "metadata": {}
  },
  {
   "cell_type": "code",
   "execution_count": null,
   "source": [],
   "outputs": [],
   "metadata": {}
  }
 ],
 "metadata": {
  "interpreter": {
   "hash": "617baf094c207d53667057a81355ed8e45450f782c50f81de73cdf839b3f124b"
  },
  "kernelspec": {
   "name": "python3",
   "display_name": "Python 3.9.5 64-bit ('core': conda)"
  },
  "language_info": {
   "codemirror_mode": {
    "name": "ipython",
    "version": 3
   },
   "file_extension": ".py",
   "mimetype": "text/x-python",
   "name": "python",
   "nbconvert_exporter": "python",
   "pygments_lexer": "ipython3",
   "version": "3.9.5"
  },
  "toc": {
   "base_numbering": 1,
   "nav_menu": {},
   "number_sections": true,
   "sideBar": true,
   "skip_h1_title": false,
   "title_cell": "Table of Contents",
   "title_sidebar": "Contents",
   "toc_cell": false,
   "toc_position": {},
   "toc_section_display": true,
   "toc_window_display": false
  },
  "varInspector": {
   "cols": {
    "lenName": 16,
    "lenType": 16,
    "lenVar": 40
   },
   "kernels_config": {
    "python": {
     "delete_cmd_postfix": "",
     "delete_cmd_prefix": "del ",
     "library": "var_list.py",
     "varRefreshCmd": "print(var_dic_list())"
    },
    "r": {
     "delete_cmd_postfix": ") ",
     "delete_cmd_prefix": "rm(",
     "library": "var_list.r",
     "varRefreshCmd": "cat(var_dic_list()) "
    }
   },
   "types_to_exclude": [
    "module",
    "function",
    "builtin_function_or_method",
    "instance",
    "_Feature"
   ],
   "window_display": false
  }
 },
 "nbformat": 4,
 "nbformat_minor": 2
}