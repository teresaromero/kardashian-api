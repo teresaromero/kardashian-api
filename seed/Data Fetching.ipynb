{
 "cells": [
  {
   "cell_type": "code",
   "execution_count": null,
   "id": "07b2c027",
   "metadata": {},
   "outputs": [],
   "source": [
    "import requests\n",
    "from bs4 import BeautifulSoup\n",
    "import re\n",
    "from pymongo import MongoClient\n",
    "from datetime import datetime\n",
    "import os\n",
    "from dotenv import load_dotenv\n",
    "load_dotenv()"
   ]
  },
  {
   "cell_type": "code",
   "execution_count": null,
   "id": "d55c3310",
   "metadata": {},
   "outputs": [],
   "source": [
    "url = os.getenv(\"MONGO_URL\")\n",
    "client = MongoClient(url)\n",
    "db = client.get_database(\"kuwtk\")"
   ]
  },
  {
   "cell_type": "code",
   "execution_count": null,
   "id": "a5191111",
   "metadata": {},
   "outputs": [],
   "source": [
    "def get_html(url):\n",
    "    response = requests.get(url)\n",
    "    if response.status_code == 200:\n",
    "        return BeautifulSoup(response.text)\n",
    "    raise Exception(response)"
   ]
  },
  {
   "cell_type": "markdown",
   "id": "51011976",
   "metadata": {},
   "source": [
    "# Kardashian API content"
   ]
  },
  {
   "cell_type": "markdown",
   "id": "52ce2fba",
   "metadata": {},
   "source": [
    "## IMBD Episodes\n",
    "For each episode: title, imbd_rate, description, season, watch_platforms, air_date, imbd_id"
   ]
  },
  {
   "cell_type": "code",
   "execution_count": null,
   "id": "66af44b2",
   "metadata": {},
   "outputs": [],
   "source": [
    "imbd_episodes = db.imbd_episodes"
   ]
  },
  {
   "cell_type": "code",
   "execution_count": null,
   "id": "12c0fea2",
   "metadata": {},
   "outputs": [],
   "source": [
    "def season_url(\n",
    "    season): return f\"https://www.imdb.com/title/tt1086761/episodes?season={season}\""
   ]
  },
  {
   "cell_type": "code",
   "execution_count": null,
   "id": "0b5576a3",
   "metadata": {},
   "outputs": [],
   "source": [
    "def parseDate(date):\n",
    "    if date != \"\":\n",
    "        try:\n",
    "            return datetime.strptime(date, '%d %b. %Y')\n",
    "        except Exception as error:\n",
    "            return datetime.strptime(date, '%d %b %Y')\n",
    "    return None"
   ]
  },
  {
   "cell_type": "code",
   "execution_count": null,
   "id": "3ce0a3c8",
   "metadata": {},
   "outputs": [],
   "source": [
    "def getSeasonEpisodeData(html):\n",
    "    data = []\n",
    "    list_episodes = html.select(\"div.list.detail.eplist > div\")\n",
    "    for episode in list_episodes:\n",
    "        imbd_id = episode.select_one(\"div.image > a > div\").get(\"data-const\")\n",
    "        image_url_raw = episode.select_one(\"div.image > a > div > img\")\n",
    "        image_url = None\n",
    "        if image_url_raw:\n",
    "            image_url = image_url_raw.get(\"src\")\n",
    "        s, e = episode.select_one(\n",
    "            \"div.image > a > div > div\").get_text().split(\",\")\n",
    "        season_num = int(s.replace(\"S\", \"\"))\n",
    "        season_episode_num = int(e.replace(\"Ep\", \"\"))\n",
    "\n",
    "        air_date_raw = episode.select_one(\n",
    "            \"div.info > div.airdate\")\n",
    "        air_date = None\n",
    "        raw_air_date = None\n",
    "        if air_date_raw:\n",
    "            raw_air_date = air_date_raw.get_text().replace(\"\\n\", \"\").strip()\n",
    "            air_date = parseDate(raw_air_date)\n",
    "\n",
    "        title = episode.select_one(\"div.info > strong > a\").get(\"title\")\n",
    "\n",
    "        imbd_rate_raw = episode.select_one(\n",
    "            \"div.info span.ipl-rating-star__rating\")\n",
    "        imbd_rate = None\n",
    "        if imbd_rate_raw:\n",
    "            imbd_rate = float(imbd_rate_raw.get_text())\n",
    "\n",
    "        imbd_rate_votes_raw = episode.select_one(\n",
    "            \"div.info span.ipl-rating-star__total-votes\")\n",
    "        imbd_rate_votes = None\n",
    "        if imbd_rate_votes_raw:\n",
    "            imbd_rate_votes = int(re.sub(\n",
    "                r\"([()])\", \"\", imbd_rate_votes_raw.get_text()))\n",
    "\n",
    "        description_raw = episode.select_one(\n",
    "            \"div.info > div[itemprop='description']\")\n",
    "        description = None\n",
    "        if description_raw:\n",
    "            description = description_raw.get_text().replace(\"\\n\", \"\")\n",
    "\n",
    "        watch_links = []\n",
    "        data.append(\n",
    "            {\n",
    "                \"imbd_id\": imbd_id,\n",
    "                \"image_url\": image_url,\n",
    "                \"season\": season_num,\n",
    "                \"episode\": season_episode_num,\n",
    "                \"raw_air_date\": raw_air_date,\n",
    "                \"air_date\": air_date,\n",
    "                \"title\": title,\n",
    "                \"imbd_rate\": imbd_rate,\n",
    "                \"imbd_rate_votes\": imbd_rate_votes,\n",
    "                \"description\": description,\n",
    "                \"watch_links\": watch_links\n",
    "            }\n",
    "        )\n",
    "    return data"
   ]
  },
  {
   "cell_type": "code",
   "execution_count": null,
   "id": "b8e2613d",
   "metadata": {},
   "outputs": [],
   "source": [
    "errors = []\n",
    "for s in range(1, 21):\n",
    "    print(s)\n",
    "    try:\n",
    "        html = get_html(season_url(s))\n",
    "        docs = getSeasonEpisodeData(html)\n",
    "        [imbd_episodes.update_one({\"imbd_id\": doc[\"imbd_id\"]}, {\"$set\": doc}, upsert=True)\n",
    "         for doc in docs]\n",
    "    except Exception as error:\n",
    "        errors.append(error)"
   ]
  },
  {
   "cell_type": "code",
   "execution_count": null,
   "id": "2bd1458f",
   "metadata": {},
   "outputs": [],
   "source": [
    "errors"
   ]
  },
  {
   "cell_type": "code",
   "execution_count": null,
   "id": "bc1a4d6b",
   "metadata": {},
   "outputs": [],
   "source": [
    "h = imbd_episodes.aggregate([\n",
    "    {\n",
    "        \"$group\": {\n",
    "            \"_id\": \"$season\",\n",
    "            \"totalEpisodes\": {\"$sum\": 1}\n",
    "        }\n",
    "    },\n",
    "    {\n",
    "        \"$sort\": {\n",
    "            \"_id\": 1\n",
    "        }\n",
    "    }\n",
    "])"
   ]
  },
  {
   "cell_type": "code",
   "execution_count": null,
   "id": "590bde47",
   "metadata": {},
   "outputs": [],
   "source": [
    "[e for e in h]"
   ]
  },
  {
   "cell_type": "markdown",
   "id": "78a368b5",
   "metadata": {},
   "source": [
    "## Wikipedia Episodes\n",
    "For each episode: title, imbd_rate, description, season, watch_platforms, air_date, imbd_id"
   ]
  },
  {
   "cell_type": "code",
   "execution_count": null,
   "id": "688ae13d",
   "metadata": {},
   "outputs": [],
   "source": [
    "wiki_url = \"https://en.wikipedia.org/wiki/List_of_Keeping_Up_with_the_Kardashians_episodes\""
   ]
  },
  {
   "cell_type": "code",
   "execution_count": null,
   "id": "930715d3",
   "metadata": {},
   "outputs": [],
   "source": [
    "html = get_html(wiki_url)\n",
    "wiki_ep = html.select(\"tr.vevent\")"
   ]
  },
  {
   "cell_type": "code",
   "execution_count": null,
   "id": "85391c10",
   "metadata": {},
   "outputs": [],
   "source": [
    "episodes_wikipedia = []\n",
    "for e in wiki_ep:\n",
    "    episode_overall = int(e.select_one(\"tr > th:first-child\").get_text())\n",
    "    episode_data = [i.get_text() for i in e.select(\"tr > td\")]\n",
    "    episode = episode_data[0]\n",
    "    title = episode_data[1]\n",
    "    special_episode = False\n",
    "    air_date = None\n",
    "    us_viewers = None\n",
    "    season = None\n",
    "    if len(episode_data) == 5:\n",
    "        episode = episode_overall\n",
    "        episode_overall = None\n",
    "        season = episode_data[0]\n",
    "        special_episode = True\n",
    "        air_date = datetime.fromisoformat(\n",
    "            re.sub(r\"([()])\", \"\", re.search(r\"\\((.*?)\\)\", episode_data[3]).group()))\n",
    "        if episode_data[4] != \"N/A\":\n",
    "            us_viewers = float(re.sub(\n",
    "                r\"\\[[^)]*\\]\", \"\", episode_data[4]).replace('″', \"\"))\n",
    "    if len(episode_data) <= 4:\n",
    "        air_date = datetime.fromisoformat(\n",
    "            re.sub(r\"([()])\", \"\", re.search(r\"\\((.*?)\\)\", episode_data[2]).group()))\n",
    "        if len(episode_data) == 4 and episode_data[3] != \"N/A\":\n",
    "            us_viewers = float(re.sub(\n",
    "                r\"\\[[^)]*\\]\", \"\", episode_data[3]).replace('″', \"\"))\n",
    "    episodes_wikipedia.append({\n",
    "        \"title\": title.strip('\"'),\n",
    "        \"episode\": int(episode),\n",
    "        \"season\": season,\n",
    "        \"episode_overall\": episode_overall,\n",
    "        \"air_date\": air_date,\n",
    "        \"us_viewers\": us_viewers,\n",
    "        \"special_episode\": special_episode\n",
    "    })"
   ]
  },
  {
   "cell_type": "code",
   "execution_count": null,
   "id": "aa8464dc",
   "metadata": {},
   "outputs": [],
   "source": [
    "wiki_episodes = db.wiki_episodes"
   ]
  },
  {
   "cell_type": "code",
   "execution_count": null,
   "id": "8fcece0c",
   "metadata": {},
   "outputs": [],
   "source": [
    "errors = []\n",
    "wiki_episodes.drop()\n",
    "for doc in episodes_wikipedia:\n",
    "    print(doc[\"episode_overall\"])\n",
    "    try:\n",
    "        wiki_episodes.update_one({\"title\": doc[\"title\"]}, {\n",
    "                                 \"$set\": doc}, upsert=True)\n",
    "    except Exception as error:\n",
    "        errors.append(error)"
   ]
  },
  {
   "cell_type": "code",
   "execution_count": null,
   "id": "6274d645",
   "metadata": {},
   "outputs": [],
   "source": [
    "errors"
   ]
  },
  {
   "cell_type": "markdown",
   "id": "5ee8f8e9",
   "metadata": {},
   "source": [
    "## IMBD Fullcredits per episode"
   ]
  },
  {
   "cell_type": "code",
   "execution_count": null,
   "id": "44c0bd3e",
   "metadata": {},
   "outputs": [],
   "source": [
    "def url_fullcredits(\n",
    "    imbd_id): return f\"https://www.imdb.com/title/{imbd_id}/fullcredits\""
   ]
  },
  {
   "cell_type": "code",
   "execution_count": null,
   "id": "64a3319f",
   "metadata": {},
   "outputs": [],
   "source": [
    "episodes_ids = [id[\"imbd_id\"]\n",
    "                for id in imbd_episodes.find({}, {\"imbd_id\": 1, \"_id\": 0})]"
   ]
  },
  {
   "cell_type": "code",
   "execution_count": null,
   "id": "d1d5ae56",
   "metadata": {},
   "outputs": [],
   "source": [
    "def get_document(html, id):\n",
    "    directed_by = [e.get_text().strip()\n",
    "                   for e in html.select(\"h4[name='director'] + table a\")]\n",
    "    written_by = [e.get_text().strip()\n",
    "                  for e in html.select(\"h4[name='writer'] + table a\")]\n",
    "    cast = [e.get_text().strip() for e in html.select(\n",
    "        \"h4[name='cast'] + table tr > td:nth-of-type(2) a\")]\n",
    "    tables_names = ['producer',\n",
    "                    'composer',\n",
    "                    'cinematographer',\n",
    "                    'editor',\n",
    "                    'make_up_department',\n",
    "                    'production_manager',\n",
    "                    'sound_department',\n",
    "                    'visual_effects',\n",
    "                    'camera_department',\n",
    "                    'casting_department',\n",
    "                    'editorial_department',\n",
    "                    'music_department',\n",
    "                    'miscellaneous']\n",
    "    data_tables = {}\n",
    "    for table in tables_names:\n",
    "        raw = html.select(f\"h4[name='{table}'] + table tr\")\n",
    "        data_tables[table] = []\n",
    "        for r in raw:\n",
    "            name = r.select_one(\"td.name > a\").get_text().strip()\n",
    "            credit_raw = r.select_one(\"td.credit\")\n",
    "            credit = None\n",
    "            if credit_raw:\n",
    "                credit = credit_raw.get_text().strip()\n",
    "            data_tables[table].append({\"name\": name, \"credit\": credit})\n",
    "    return {\n",
    "        \"imbd_id\":id,\n",
    "        \"directed_by\": directed_by,\n",
    "        \"written_by\": written_by,\n",
    "        \"cast\": cast,\n",
    "        \"produced_by\": data_tables[\"producer\"],\n",
    "        \"music_by\": data_tables[\"composer\"],\n",
    "        \"cinematographer\": data_tables[\"cinematographer\"],\n",
    "        \"edited_by\": data_tables[\"editor\"],\n",
    "        \"makeup_by\": data_tables[\"make_up_department\"],\n",
    "        \"production_manager\": data_tables[\"production_manager\"],\n",
    "        \"sound_department\": data_tables[\"sound_department\"],\n",
    "        \"visual_effects\": data_tables[\"visual_effects\"],\n",
    "        \"camera_department\": data_tables[\"camera_department\"],\n",
    "        \"casting_department\": data_tables[\"casting_department\"],\n",
    "        \"editorial_department\": data_tables[\"editorial_department\"],\n",
    "        \"music_department\": data_tables[\"music_department\"],\n",
    "        \"miscellaneous\": data_tables[\"miscellaneous\"],\n",
    "    }"
   ]
  },
  {
   "cell_type": "code",
   "execution_count": null,
   "id": "6d815d3b",
   "metadata": {},
   "outputs": [],
   "source": [
    "imbd_episodes_fullcredits = db.imbd_episodes_fullcredits\n",
    "mongo_errors = []\n",
    "for id in episodes_ids:\n",
    "    print(id)\n",
    "    html = get_html(url_fullcredits(id))\n",
    "    doc = get_document(html,id)\n",
    "    try:\n",
    "        imbd_episodes_fullcredits.update_one({\"imbd_id\":doc[\"imbd_id\"]},{\"$set\":doc},upsert=True)\n",
    "    except Exception as error:\n",
    "        mongo_errors.append(error)"
   ]
  }
 ],
 "metadata": {
  "kernelspec": {
   "display_name": "Python 3",
   "language": "python",
   "name": "python3"
  },
  "language_info": {
   "codemirror_mode": {
    "name": "ipython",
    "version": 3
   },
   "file_extension": ".py",
   "mimetype": "text/x-python",
   "name": "python",
   "nbconvert_exporter": "python",
   "pygments_lexer": "ipython3",
   "version": "3.9.5"
  },
  "toc": {
   "base_numbering": 1,
   "nav_menu": {},
   "number_sections": true,
   "sideBar": true,
   "skip_h1_title": false,
   "title_cell": "Table of Contents",
   "title_sidebar": "Contents",
   "toc_cell": false,
   "toc_position": {},
   "toc_section_display": true,
   "toc_window_display": true
  },
  "varInspector": {
   "cols": {
    "lenName": 16,
    "lenType": 16,
    "lenVar": 40
   },
   "kernels_config": {
    "python": {
     "delete_cmd_postfix": "",
     "delete_cmd_prefix": "del ",
     "library": "var_list.py",
     "varRefreshCmd": "print(var_dic_list())"
    },
    "r": {
     "delete_cmd_postfix": ") ",
     "delete_cmd_prefix": "rm(",
     "library": "var_list.r",
     "varRefreshCmd": "cat(var_dic_list()) "
    }
   },
   "types_to_exclude": [
    "module",
    "function",
    "builtin_function_or_method",
    "instance",
    "_Feature"
   ],
   "window_display": false
  }
 },
 "nbformat": 4,
 "nbformat_minor": 5
}
