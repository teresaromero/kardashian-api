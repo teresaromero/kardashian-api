{
 "cells": [
  {
   "cell_type": "code",
   "execution_count": 110,
   "id": "07b2c027",
   "metadata": {},
   "outputs": [
    {
     "data": {
      "text/plain": [
       "True"
      ]
     },
     "execution_count": 110,
     "metadata": {},
     "output_type": "execute_result"
    }
   ],
   "source": [
    "import requests\n",
    "from bs4 import BeautifulSoup\n",
    "import re\n",
    "from pymongo import MongoClient\n",
    "from datetime import datetime\n",
    "import os\n",
    "from dotenv import load_dotenv\n",
    "load_dotenv()"
   ]
  },
  {
   "cell_type": "code",
   "execution_count": 111,
   "id": "d55c3310",
   "metadata": {},
   "outputs": [],
   "source": [
    "url = os.getenv(\"MONGO_URL\")\n",
    "client = MongoClient(url)\n",
    "db = client.get_database(\"kuwtk\")\n",
    "imbd_episodes = db.imbd_episodes"
   ]
  },
  {
   "cell_type": "code",
   "execution_count": 112,
   "id": "a5191111",
   "metadata": {},
   "outputs": [],
   "source": [
    "def get_html(url):\n",
    "    response = requests.get(url)\n",
    "    if response.status_code == 200:\n",
    "        return BeautifulSoup(response.text)\n",
    "    raise Exception(response)"
   ]
  },
  {
   "cell_type": "markdown",
   "id": "51011976",
   "metadata": {},
   "source": [
    "# Kardashian API content\n",
    "## IMBD Episodes\n",
    "For each episode: title, imbd_rate, description, season, watch_platforms, air_date, imbd_id"
   ]
  },
  {
   "cell_type": "code",
   "execution_count": 113,
   "id": "12c0fea2",
   "metadata": {},
   "outputs": [],
   "source": [
    "def season_url(\n",
    "    season): return f\"https://www.imdb.com/title/tt1086761/episodes?season={season}\""
   ]
  },
  {
   "cell_type": "code",
   "execution_count": 114,
   "id": "0b5576a3",
   "metadata": {},
   "outputs": [],
   "source": [
    "def parseDate(date):\n",
    "    if date != \"\":\n",
    "        try:\n",
    "            return datetime.strptime(date, '%d %b. %Y')\n",
    "        except Exception as error:\n",
    "            return datetime.strptime(date, '%d %b %Y')\n",
    "    return None"
   ]
  },
  {
   "cell_type": "code",
   "execution_count": 115,
   "id": "3ce0a3c8",
   "metadata": {},
   "outputs": [],
   "source": [
    "def getSeasonEpisodeData(html):\n",
    "    data = []\n",
    "    list_episodes = html.select(\"div.list.detail.eplist > div\")\n",
    "    for episode in list_episodes:\n",
    "        imbd_id = episode.select_one(\"div.image > a > div\").get(\"data-const\")\n",
    "        image_url_raw = episode.select_one(\"div.image > a > div > img\")\n",
    "        image_url = None\n",
    "        if image_url_raw:\n",
    "            image_url = image_url_raw.get(\"src\")\n",
    "        s, e = episode.select_one(\n",
    "            \"div.image > a > div > div\").get_text().split(\",\")\n",
    "        season_num = int(s.replace(\"S\", \"\"))\n",
    "        season_episode_num = int(e.replace(\"Ep\", \"\"))\n",
    "\n",
    "        air_date_raw = episode.select_one(\n",
    "            \"div.info > div.airdate\")\n",
    "        air_date = None\n",
    "        raw_air_date = None\n",
    "        if air_date_raw:\n",
    "            raw_air_date = air_date_raw.get_text().replace(\"\\n\", \"\").strip()\n",
    "            air_date = parseDate(raw_air_date)\n",
    "\n",
    "        title = episode.select_one(\"div.info > strong > a\").get(\"title\")\n",
    "\n",
    "        imbd_rate_raw = episode.select_one(\n",
    "            \"div.info span.ipl-rating-star__rating\")\n",
    "        imbd_rate = None\n",
    "        if imbd_rate_raw:\n",
    "            imbd_rate = float(imbd_rate_raw.get_text())\n",
    "\n",
    "        imbd_rate_votes_raw = episode.select_one(\n",
    "            \"div.info span.ipl-rating-star__total-votes\")\n",
    "        imbd_rate_votes = None\n",
    "        if imbd_rate_votes_raw:\n",
    "            imbd_rate_votes = int(re.sub(\n",
    "                r\"([()])\", \"\", imbd_rate_votes_raw.get_text()))\n",
    "\n",
    "        description_raw = episode.select_one(\n",
    "            \"div.info > div[itemprop='description']\")\n",
    "        description = None\n",
    "        if description_raw:\n",
    "            description = description_raw.get_text().replace(\"\\n\", \"\")\n",
    "\n",
    "        watch_links = []\n",
    "        data.append(\n",
    "            {\n",
    "                \"imbd_id\": imbd_id,\n",
    "                \"image_url\": image_url,\n",
    "                \"season\": season_num,\n",
    "                \"episode\": season_episode_num,\n",
    "                \"raw_air_date\": raw_air_date,\n",
    "                \"air_date\": air_date,\n",
    "                \"title\": title,\n",
    "                \"imbd_rate\": imbd_rate,\n",
    "                \"imbd_rate_votes\": imbd_rate_votes,\n",
    "                \"description\": description,\n",
    "                \"watch_links\": watch_links\n",
    "            }\n",
    "        )\n",
    "    return data"
   ]
  },
  {
   "cell_type": "code",
   "execution_count": 124,
   "id": "b8e2613d",
   "metadata": {},
   "outputs": [
    {
     "name": "stdout",
     "output_type": "stream",
     "text": [
      "1\n",
      "2\n",
      "3\n",
      "4\n",
      "5\n",
      "6\n",
      "7\n",
      "8\n",
      "9\n",
      "10\n",
      "11\n",
      "12\n",
      "13\n",
      "14\n",
      "15\n",
      "16\n",
      "17\n",
      "18\n",
      "19\n",
      "20\n"
     ]
    }
   ],
   "source": [
    "errors = []\n",
    "for s in range(1, 21):\n",
    "    print(s)\n",
    "    try:\n",
    "        html = get_html(season_url(s))\n",
    "        docs = getSeasonEpisodeData(html)\n",
    "        [imbd_episodes.update_one({\"imbd_id\": doc[\"imbd_id\"]}, {\"$set\": doc}, upsert=True)\n",
    "         for doc in docs]\n",
    "    except Exception as error:\n",
    "        errors.append(error)"
   ]
  },
  {
   "cell_type": "code",
   "execution_count": 125,
   "id": "2bd1458f",
   "metadata": {},
   "outputs": [
    {
     "data": {
      "text/plain": [
       "[]"
      ]
     },
     "execution_count": 125,
     "metadata": {},
     "output_type": "execute_result"
    }
   ],
   "source": [
    "errors"
   ]
  },
  {
   "cell_type": "code",
   "execution_count": 126,
   "id": "bc1a4d6b",
   "metadata": {},
   "outputs": [],
   "source": [
    "h = imbd_episodes.aggregate([\n",
    "    {\n",
    "        \"$group\": {\n",
    "            \"_id\": \"$season\",\n",
    "            \"totalEpisodes\": {\"$sum\": 1}\n",
    "        }\n",
    "    },\n",
    "    {\n",
    "        \"$sort\": {\n",
    "            \"_id\": 1\n",
    "        }\n",
    "    }\n",
    "])"
   ]
  },
  {
   "cell_type": "code",
   "execution_count": 127,
   "id": "590bde47",
   "metadata": {},
   "outputs": [
    {
     "data": {
      "text/plain": [
       "[{'_id': 1, 'totalEpisodes': 8},\n",
       " {'_id': 2, 'totalEpisodes': 11},\n",
       " {'_id': 3, 'totalEpisodes': 12},\n",
       " {'_id': 4, 'totalEpisodes': 11},\n",
       " {'_id': 5, 'totalEpisodes': 12},\n",
       " {'_id': 6, 'totalEpisodes': 16},\n",
       " {'_id': 7, 'totalEpisodes': 19},\n",
       " {'_id': 8, 'totalEpisodes': 21},\n",
       " {'_id': 9, 'totalEpisodes': 20},\n",
       " {'_id': 10, 'totalEpisodes': 20},\n",
       " {'_id': 11, 'totalEpisodes': 13},\n",
       " {'_id': 12, 'totalEpisodes': 26},\n",
       " {'_id': 13, 'totalEpisodes': 14},\n",
       " {'_id': 14, 'totalEpisodes': 20},\n",
       " {'_id': 15, 'totalEpisodes': 16},\n",
       " {'_id': 16, 'totalEpisodes': 12},\n",
       " {'_id': 17, 'totalEpisodes': 12},\n",
       " {'_id': 18, 'totalEpisodes': 6},\n",
       " {'_id': 19, 'totalEpisodes': 9},\n",
       " {'_id': 20, 'totalEpisodes': 14}]"
      ]
     },
     "execution_count": 127,
     "metadata": {},
     "output_type": "execute_result"
    }
   ],
   "source": [
    "[e for e in h]"
   ]
  },
  {
   "cell_type": "code",
   "execution_count": null,
   "id": "72bef1b5",
   "metadata": {},
   "outputs": [],
   "source": []
  }
 ],
 "metadata": {
  "kernelspec": {
   "display_name": "Python 3",
   "language": "python",
   "name": "python3"
  },
  "language_info": {
   "codemirror_mode": {
    "name": "ipython",
    "version": 3
   },
   "file_extension": ".py",
   "mimetype": "text/x-python",
   "name": "python",
   "nbconvert_exporter": "python",
   "pygments_lexer": "ipython3",
   "version": "3.9.5"
  },
  "toc": {
   "base_numbering": 1,
   "nav_menu": {},
   "number_sections": true,
   "sideBar": true,
   "skip_h1_title": false,
   "title_cell": "Table of Contents",
   "title_sidebar": "Contents",
   "toc_cell": false,
   "toc_position": {},
   "toc_section_display": true,
   "toc_window_display": false
  },
  "varInspector": {
   "cols": {
    "lenName": 16,
    "lenType": 16,
    "lenVar": 40
   },
   "kernels_config": {
    "python": {
     "delete_cmd_postfix": "",
     "delete_cmd_prefix": "del ",
     "library": "var_list.py",
     "varRefreshCmd": "print(var_dic_list())"
    },
    "r": {
     "delete_cmd_postfix": ") ",
     "delete_cmd_prefix": "rm(",
     "library": "var_list.r",
     "varRefreshCmd": "cat(var_dic_list()) "
    }
   },
   "types_to_exclude": [
    "module",
    "function",
    "builtin_function_or_method",
    "instance",
    "_Feature"
   ],
   "window_display": false
  }
 },
 "nbformat": 4,
 "nbformat_minor": 5
}
